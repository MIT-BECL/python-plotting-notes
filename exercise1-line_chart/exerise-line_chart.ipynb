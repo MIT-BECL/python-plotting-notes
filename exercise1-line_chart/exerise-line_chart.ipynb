{
 "cells": [
  {
   "cell_type": "markdown",
   "metadata": {},
   "source": [
    "# Imports"
   ]
  },
  {
   "cell_type": "code",
   "execution_count": 4,
   "metadata": {},
   "outputs": [],
   "source": [
    "from matplotlib import pyplot as plt\n",
    "from matplotlib import rcParams\n",
    "%matplotlib inline\n",
    "\n",
    "import numpy as np"
   ]
  },
  {
   "cell_type": "markdown",
   "metadata": {},
   "source": [
    "# Default Parameters"
   ]
  },
  {
   "cell_type": "code",
   "execution_count": 5,
   "metadata": {},
   "outputs": [],
   "source": [
    "figsize = (6, 4) # in inches\n",
    "fontsize = 10\n",
    "save_dpi = 300\n",
    "linewidth = 0.5\n",
    "\n",
    "rcParams.update({\n",
    "    'font.size' : fontsize,\n",
    "    'savefig.dpi' : 300,\n",
    "    'axes.linewidth' : 0.5,\n",
    "})"
   ]
  },
  {
   "cell_type": "markdown",
   "metadata": {},
   "source": [
    "# Data"
   ]
  },
  {
   "cell_type": "code",
   "execution_count": 6,
   "metadata": {},
   "outputs": [],
   "source": [
    "# data\n",
    "x = np.linspace(-2*np.pi, 2*np.pi, 50)\n",
    "y1 = np.sin(x)\n",
    "y2 = np.cos(x)\n",
    "\n",
    "# labeling\n",
    "ylabel = 'amplitude'\n",
    "\n",
    "# coloring\n",
    "colors = ['#2b8cbe',\n",
    "          '#f03b20',]"
   ]
  },
  {
   "cell_type": "markdown",
   "metadata": {},
   "source": [
    "# Beginner\n",
    "### plot this\n",
    "<img src=\"beginner-line.png\" alt=\"beginner\" width='40%' align='left'/>"
   ]
  },
  {
   "cell_type": "code",
   "execution_count": 7,
   "metadata": {},
   "outputs": [
    {
     "data": {
      "text/plain": [
       "'\\n    hint - set setters to set the x and y labels\\n    \\n    example - \\n    ax1.set_ylabel(<args>)\\n'"
      ]
     },
     "execution_count": 7,
     "metadata": {},
     "output_type": "execute_result"
    }
   ],
   "source": [
    "# create figure and axis\n",
    "'''\n",
    "    hint - use the imported pyplot (plt) command to create a figure\n",
    "    typically you can go about this using the subplots(rows, columns, figsize) function\n",
    "    which gives you both the figure, and an array of axes\n",
    "    or you can create the figure first using figure(), then add axes onto it using add_axes()\n",
    "    or add_subplot() (not the lack of an 's')\n",
    "    \n",
    "    example \n",
    "    fig, ax = plt.subplots(1, 1, figsize=figsize)\n",
    "'''\n",
    "\n",
    "# plot waves\n",
    "'''\n",
    "    hint - use the X and Y (y1, y2) coordinates to plot the sine and cosine waves onto ax\n",
    "    look at the ax.plot() documentation to see what arguments are necessary, and what can be customized\n",
    "    https://matplotlib.org/api/_as_gen/matplotlib.pyplot.plot.html\n",
    "    \n",
    "    example - \n",
    "    ax.plot(x, y)\n",
    "''' \n",
    "\n",
    "# set labels\n",
    "'''\n",
    "    hint - set setters to set the x and y labels\n",
    "    \n",
    "    example - \n",
    "    ax1.set_ylabel(<args>)\n",
    "'''"
   ]
  },
  {
   "cell_type": "markdown",
   "metadata": {},
   "source": [
    "# Advanced\n",
    "<img src=\"advanced-line.png\" alt=\"beginner\" width='40%' align='left'/>"
   ]
  },
  {
   "cell_type": "code",
   "execution_count": 8,
   "metadata": {},
   "outputs": [
    {
     "data": {
      "text/plain": [
       "\"\\nhint - use setters, but in this case, the useful command called ax.locator_params()\\nread the documentation for more info: https://matplotlib.org/api/_as_gen/matplotlib.axes.Axes.locator_params.html\\n\\nhint - when adding custom labels, you need to input a list of strings rather than an array of values. How matplotlib\\ndoes this is that it first needs the coordinates of each strings position, \\nafterwards, the list of strings are then placed at said coordinates\\n\\nexample - \\n# the coordinates for the x tick labels are at plus/minus 2 pi\\nax.set_xticks([-2*pi, 2*pi]) \\n\\n# because the coordinates are known (plus/minus 2 pi), the actual strings can then be placed\\nax.set_xticklabels(['-2$\\\\pi$', '2$\\\\pi$'])\\n\""
      ]
     },
     "execution_count": 8,
     "metadata": {},
     "output_type": "execute_result"
    }
   ],
   "source": [
    "# create figure and axis\n",
    "\n",
    "# create labels for each curve\n",
    "'''\n",
    "    hint - something as simple as making a list of names\n",
    "    \n",
    "    example -\n",
    "    labels = ['sine', 'cosine']\n",
    "'''\n",
    "\n",
    "# use a for loop to change both the first and second axis, without having to repeat code\n",
    "'''\n",
    "    example -\n",
    "    for i, y, color, label in zip(np.arange(2), [y1, y2], colors, labels):\n",
    "    # the zip function packages similarly sized arrays (or lists) and indexes through each one simultaneously\n",
    "    # so the first iteration contains\n",
    "    # i=0, y=y1, color=colors[0], label=labels[0]\n",
    "    # second iteration contains\n",
    "    # i=1, y=y2, color=colors[1], label=labels[1]\n",
    "'''\n",
    "\n",
    "# within for loop, plot the sine and cosine waves\n",
    "'''\n",
    "    hint - when plotting, you can either plot the line, points, or both\n",
    "    \n",
    "    example - \n",
    "    plotting lines: ax.plot(x, y, ...)\n",
    "    plotting points: ax.plot(x, y, linestyle='none', marker='o')\n",
    "    plotting both: ax.plot(x, y, linestyle='-', marker='o')\n",
    "    \n",
    "    look at the ax.plot() documentation to see what is customizable\n",
    "    https://matplotlib.org/api/_as_gen/matplotlib.pyplot.plot.html\n",
    "'''\n",
    "\n",
    "# outside the loop, annotate the axes (means, going back a tab)\n",
    "\n",
    "# move the spines so they look less awkward\n",
    "'''\n",
    "hint - use the ax.spines command to move around the axis borders (i.e. spines)\n",
    "\n",
    "example - \n",
    "ax.spines['bottom'].set_position('zero')\n",
    "ax.spines['right'].set_color('none')\n",
    "ax.spines['top'].set_color('none')\n",
    "'''\n",
    "    \n",
    "# modify the x and y tick labels\n",
    "# y ticks are too cluttered, and change label\n",
    "# change x ticks to radians (pi)\n",
    "'''\n",
    "hint - use setters, but in this case, the useful command called ax.locator_params()\n",
    "read the documentation for more info: https://matplotlib.org/api/_as_gen/matplotlib.axes.Axes.locator_params.html\n",
    "\n",
    "hint - when adding custom labels, you need to input a list of strings rather than an array of values. How matplotlib\n",
    "does this is that it first needs the coordinates of each strings position, \n",
    "afterwards, the list of strings are then placed at said coordinates\n",
    "\n",
    "example - \n",
    "# the coordinates for the x tick labels are at plus/minus 2 pi\n",
    "ax.set_xticks([-2*pi, 2*pi]) \n",
    "\n",
    "# because the coordinates are known (plus/minus 2 pi), the actual strings can then be placed\n",
    "ax.set_xticklabels(['-2$\\pi$', '2$\\pi$'])\n",
    "'''\n",
    "\n",
    "# create legend from labels"
   ]
  },
  {
   "cell_type": "markdown",
   "metadata": {},
   "source": [
    "# Save"
   ]
  },
  {
   "cell_type": "code",
   "execution_count": 9,
   "metadata": {},
   "outputs": [
    {
     "data": {
      "text/plain": [
       "\"\\n    - example\\n    fig.savefig('title', dpi=300, transparent=True)\\n\""
      ]
     },
     "execution_count": 9,
     "metadata": {},
     "output_type": "execute_result"
    }
   ],
   "source": [
    "'''\n",
    "    - example\n",
    "    fig.savefig('title', dpi=300, transparent=True)\n",
    "'''"
   ]
  }
 ],
 "metadata": {
  "kernelspec": {
   "display_name": "work3",
   "language": "python",
   "name": "work3"
  },
  "language_info": {
   "codemirror_mode": {
    "name": "ipython",
    "version": 3
   },
   "file_extension": ".py",
   "mimetype": "text/x-python",
   "name": "python",
   "nbconvert_exporter": "python",
   "pygments_lexer": "ipython3",
   "version": "3.7.2"
  }
 },
 "nbformat": 4,
 "nbformat_minor": 2
}
