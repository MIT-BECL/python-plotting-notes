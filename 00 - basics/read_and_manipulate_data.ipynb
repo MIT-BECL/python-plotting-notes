{
 "cells": [
  {
   "cell_type": "code",
   "execution_count": 1,
   "metadata": {
    "collapsed": true
   },
   "outputs": [],
   "source": [
    "#%% Basic imports\n",
    "import matplotlib.pylab as plt\n",
    "import matplotlib.gridspec as gridspec\n",
    "import pandas as pd\n",
    "import numpy as np\n",
    "import scipy as sp\n",
    "import os\n",
    "\n",
    "# Divya"
   ]
  },
  {
   "cell_type": "code",
   "execution_count": 2,
   "metadata": {
    "collapsed": true
   },
   "outputs": [],
   "source": [
    "%matplotlib inline"
   ]
  },
  {
   "cell_type": "code",
   "execution_count": 4,
   "metadata": {
    "collapsed": false
   },
   "outputs": [
    {
     "name": "stdout",
     "output_type": "stream",
     "text": [
      "   var1  var2  var3  var 4\n",
      "1   100     1   100     77\n",
      "2    90     3   200     73\n",
      "3    50     4   300     20\n",
      "4    10   100   120     23\n",
      "5     2     5   140     96\n"
     ]
    }
   ],
   "source": [
    "# get current working directoy\n",
    "current_dir = os.getcwd()\n",
    "\n",
    "# get filename by joining with current working directory\n",
    "filename = os.path.join(current_dir, \"test_data_1.xlsx\")\n",
    "\n",
    "# read excel as a data frame\n",
    "df = pd.read_excel(filename, sheetname='test1', index_col=0)\n",
    "\n",
    "# alternatively read in the Excel file as a whole and parse sheets individually\n",
    "xlsx = pd.ExcelFile(filename)\n",
    "# print(xlsx.sheet_names)\n",
    "\n",
    "# parse xlsx to get the same dataframe as above\n",
    "df = xlsx.parse(sheetname='test1', index_col=0)\n",
    "\n",
    "print(df.head())"
   ]
  }
 ],
 "metadata": {
  "kernelspec": {
   "display_name": "Python 3",
   "language": "python",
   "name": "python3"
  },
  "language_info": {
   "codemirror_mode": {
    "name": "ipython",
    "version": 3
   },
   "file_extension": ".py",
   "mimetype": "text/x-python",
   "name": "python",
   "nbconvert_exporter": "python",
   "pygments_lexer": "ipython3",
   "version": "3.6.0"
  }
 },
 "nbformat": 4,
 "nbformat_minor": 2
}
