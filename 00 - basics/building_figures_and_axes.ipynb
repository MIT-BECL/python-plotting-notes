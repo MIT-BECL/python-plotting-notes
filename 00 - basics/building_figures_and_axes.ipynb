{
 "cells": [
  {
   "cell_type": "code",
   "execution_count": null,
   "metadata": {
    "collapsed": true
   },
   "outputs": [],
   "source": [
    "#%% Basic imports\n",
    "import matplotlib.pylab as plt\n",
    "import matplotlib.gridspec as gridspec\n",
    "import pandas as pd\n",
    "import numpy as np\n",
    "import scipy as sp\n",
    "import os"
   ]
  },
  {
   "cell_type": "code",
   "execution_count": 4,
   "metadata": {
    "collapsed": true
   },
   "outputs": [],
   "source": [
    "%matplotlib inline"
   ]
  },
  {
   "cell_type": "markdown",
   "metadata": {},
   "source": [
    "# Guide to figure and axes manipulation - _BEGINNER_"
   ]
  },
  {
   "cell_type": "code",
   "execution_count": 5,
   "metadata": {
    "collapsed": false
   },
   "outputs": [
    {
     "data": {
      "image/png": "[encoded data removed]",
      "text/plain": [
       "<matplotlib.figure.Figure at 0x182913d81d0>"
      ]
     },
     "metadata": {},
     "output_type": "display_data"
    }
   ],
   "source": [
    "# build figure canvas - object oriented\n",
    "figsize = (3,2) # width x height\n",
    "fig = plt.figure(figsize=figsize)\n",
    "\n",
    "# add axes within figure\n",
    "ax = fig.add_axes([0,0,1,1]) # [left, bottom, width, height]"
   ]
  },
  {
   "cell_type": "code",
   "execution_count": 6,
   "metadata": {
    "collapsed": false
   },
   "outputs": [
    {
     "data": {
      "image/png": "[encoded data removed]",
      "text/plain": [
       "<matplotlib.figure.Figure at 0x182913d81d0>"
      ]
     },
     "execution_count": 6,
     "metadata": {},
     "output_type": "execute_result"
    }
   ],
   "source": [
    "# add specific dimension of axes\n",
    "# remove the previous ax and make it again\n",
    "ax.remove()\n",
    "\n",
    "# [left, bottom, width, height], relative units\n",
    "# left and bottom are the x,y coordinates in the left,bottom corner of the axes. \n",
    "# width and height are the lengths spanning the axes\n",
    "ax = fig.add_axes([0.2,0.2,0.2,1]) \n",
    "ax2 = fig.add_axes([0.5,0, 0.2, 0.2])\n",
    "\n",
    "# note that adding with a subplot pads the borders of the axes\n",
    "# need to call fig again to show the plot... again\n",
    "fig "
   ]
  },
  {
   "cell_type": "code",
   "execution_count": 7,
   "metadata": {
    "collapsed": false
   },
   "outputs": [
    {
     "data": {
      "image/png": "[encoded data removed]",
      "text/plain": [
       "<matplotlib.figure.Figure at 0x182913d81d0>"
      ]
     },
     "execution_count": 7,
     "metadata": {},
     "output_type": "execute_result"
    }
   ],
   "source": [
    "# add axes using subplot\n",
    "# remove the previous ax and make it again\n",
    "ax.remove(); ax2.remove()\n",
    "ax = fig.add_subplot(1,1,1) # (number of rows, number of columns, which one)\n",
    "fig "
   ]
  },
  {
   "cell_type": "code",
   "execution_count": 8,
   "metadata": {
    "collapsed": false
   },
   "outputs": [
    {
     "data": {
      "image/png": "[encoded data removed]",
      "text/plain": [
       "<matplotlib.figure.Figure at 0x182913d81d0>"
      ]
     },
     "execution_count": 8,
     "metadata": {},
     "output_type": "execute_result"
    }
   ],
   "source": [
    "# add multiple axes with subplot\n",
    "ax.remove()\n",
    "ax1 = fig.add_subplot(2,2,1)\n",
    "ax2 = fig.add_subplot(2,2,2)\n",
    "# skipping ax3\n",
    "ax4 = fig.add_subplot(2,2,4)\n",
    "\n",
    "# note that adding axes are ordered from left to right in a zig-zag pattern\n",
    "fig"
   ]
  },
  {
   "cell_type": "code",
   "execution_count": 9,
   "metadata": {
    "collapsed": false
   },
   "outputs": [
    {
     "data": {
      "image/png": "[encoded data removed]",
      "text/plain": [
       "<matplotlib.figure.Figure at 0x1829133a550>"
      ]
     },
     "metadata": {},
     "output_type": "display_data"
    }
   ],
   "source": [
    "# do it in one go\n",
    "fig, axes = plt.subplots(2,2, figsize=figsize)"
   ]
  },
  {
   "cell_type": "code",
   "execution_count": 10,
   "metadata": {
    "collapsed": false
   },
   "outputs": [
    {
     "name": "stdout",
     "output_type": "stream",
     "text": [
      "type of axes is: <class 'numpy.ndarray'>, and its shape is: (2, 2)\n"
     ]
    },
    {
     "data": {
      "image/png": "[encoded data removed]",
      "text/plain": [
       "<matplotlib.figure.Figure at 0x1829133a550>"
      ]
     },
     "execution_count": 10,
     "metadata": {},
     "output_type": "execute_result"
    }
   ],
   "source": [
    "# from plt.subplots, you get both fig, and axes in a tuple. However, axes is compacted into an array of individual axis\n",
    "print(\"type of axes is: {}, and its shape is: {}\".format(type(axes), axes.shape))\n",
    "\n",
    "# if you want to iterate through axes, you need to flatten it to make it 1D, otherwise you would need to do 2 for loops\n",
    "axes_flatten = axes.flatten()\n",
    "for ax in axes_flatten:\n",
    "    ax.plot([1,2,3])\n",
    "fig"
   ]
  },
  {
   "cell_type": "code",
   "execution_count": 11,
   "metadata": {
    "collapsed": false
   },
   "outputs": [
    {
     "data": {
      "image/png": "[encoded data removed]",
      "text/plain": [
       "<matplotlib.figure.Figure at 0x1829133a550>"
      ]
     },
     "execution_count": 11,
     "metadata": {},
     "output_type": "execute_result"
    }
   ],
   "source": [
    "# not a huge fan of the spacing, so let's increase it\n",
    "spacing = 2\n",
    "\n",
    "# increasing white space between subplot widths\n",
    "fig.subplots_adjust(wspace=spacing)\n",
    "fig\n",
    "\n",
    "# increasing white space bewteen subplot heights\n",
    "fig.subplots_adjust(hspace=spacing)\n",
    "fig"
   ]
  },
  {
   "cell_type": "markdown",
   "metadata": {},
   "source": [
    "# Guide to figure and axes manipulation - _ADVANCED_"
   ]
  },
  {
   "cell_type": "code",
   "execution_count": 12,
   "metadata": {
    "collapsed": false
   },
   "outputs": [
    {
     "data": {
      "image/png": "[encoded data removed]",
      "text/plain": [
       "<matplotlib.figure.Figure at 0x18290953780>"
      ]
     },
     "metadata": {},
     "output_type": "display_data"
    }
   ],
   "source": [
    "gridding = (4,4)\n",
    "gs = gridspec.GridSpec(*gridding)\n",
    "fig = plt.figure(figsize=figsize)\n",
    "\n",
    "# note that gs represents a figure broken up into evenly separate pieces for axes to be placed into\n",
    "# lets loop through each grid and show it:\n",
    "for i in np.arange(gridding[0]):\n",
    "    for j in np.arange(gridding[1]):\n",
    "        ax = fig.add_subplot(gs[i,j])"
   ]
  },
  {
   "cell_type": "code",
   "execution_count": 13,
   "metadata": {
    "collapsed": false
   },
   "outputs": [
    {
     "data": {
      "image/png": "[encoded data removed]",
      "text/plain": [
       "<matplotlib.figure.Figure at 0x18291e6ea58>"
      ]
     },
     "metadata": {},
     "output_type": "display_data"
    }
   ],
   "source": [
    "# you can split the grid unevenly\n",
    "# reinitialize the figure\n",
    "fig = plt.figure(figsize=figsize)\n",
    "\n",
    "# lets say I want the top row, but only the first 3 columns\n",
    "toprow_3columns_ax = fig.add_subplot(gs[0, 0:3]) # => this means first row (0, and first 3 columns 0:3)"
   ]
  },
  {
   "cell_type": "code",
   "execution_count": 14,
   "metadata": {
    "collapsed": false
   },
   "outputs": [
    {
     "data": {
      "image/png": "[encoded data removed]",
      "text/plain": [
       "<matplotlib.figure.Figure at 0x18291e6ea58>"
      ]
     },
     "execution_count": 14,
     "metadata": {},
     "output_type": "execute_result"
    }
   ],
   "source": [
    "# now let's say I want the 4th column, and all the rows in it\n",
    "allrows_4thcolumn_ax = fig.add_subplot(gs[:, 3]) # => this means all rows (:, and the 4th column 3)\n",
    "fig"
   ]
  },
  {
   "cell_type": "code",
   "execution_count": 15,
   "metadata": {
    "collapsed": false
   },
   "outputs": [
    {
     "data": {
      "image/png": "[encoded data removed]",
      "text/plain": [
       "<matplotlib.figure.Figure at 0x18291e6ea58>"
      ]
     },
     "execution_count": 15,
     "metadata": {},
     "output_type": "execute_result"
    }
   ],
   "source": [
    "# now I want to fill the middle section, all of it\n",
    "remaining_axes = fig.add_subplot(gs[1:4, 0:3]) # => to get the middle section, it starts at row 1 and ends at column 3\n",
    "fig"
   ]
  },
  {
   "cell_type": "code",
   "execution_count": 16,
   "metadata": {
    "collapsed": false
   },
   "outputs": [
    {
     "data": {
      "image/png": "[encoded data removed]",
      "text/plain": [
       "<matplotlib.figure.Figure at 0x18291e6ea58>"
      ]
     },
     "execution_count": 16,
     "metadata": {},
     "output_type": "execute_result"
    }
   ],
   "source": [
    "# the reason this is called object oriented plotting is because each axes is an individual object to work with\n",
    "# I only like the middle square axes, so I will plot into it\n",
    "remaining_axes.plot(np.random.rand(3))\n",
    "fig"
   ]
  },
  {
   "cell_type": "code",
   "execution_count": 17,
   "metadata": {
    "collapsed": false
   },
   "outputs": [
    {
     "data": {
      "image/png": "[encoded data removed]",
      "text/plain": [
       "<matplotlib.figure.Figure at 0x18291e6ea58>"
      ]
     },
     "execution_count": 17,
     "metadata": {},
     "output_type": "execute_result"
    }
   ],
   "source": [
    "# just kidding, I like all the axes\n",
    "toprow_3columns_ax.plot([1,2,3])\n",
    "allrows_4thcolumn_ax.plot([-1,-2,-3])\n",
    "fig"
   ]
  },
  {
   "cell_type": "code",
   "execution_count": 18,
   "metadata": {
    "collapsed": false
   },
   "outputs": [
    {
     "data": {
      "image/png": "[encoded data removed]",
      "text/plain": [
       "<matplotlib.figure.Figure at 0x18291e6ea58>"
      ]
     },
     "execution_count": 18,
     "metadata": {},
     "output_type": "execute_result"
    }
   ],
   "source": [
    "# you can combine gridspecing and subplotting to make other combinations of figures\n",
    "middle_annoying_ax = fig.add_subplot(5,5,13) # try to visualize what a 5x5 split figure is like, and where index 13 is\n",
    "middle_annoying_ax.plot(np.sin(np.arange(0,5*np.pi)))\n",
    "fig"
   ]
  },
  {
   "cell_type": "code",
   "execution_count": 19,
   "metadata": {
    "collapsed": false
   },
   "outputs": [
    {
     "data": {
      "image/png": "[encoded data removed]",
      "text/plain": [
       "<matplotlib.figure.Figure at 0x182925add30>"
      ]
     },
     "metadata": {},
     "output_type": "display_data"
    }
   ],
   "source": [
    "# playing around with spacing with gridspce\n",
    "gs = gridspec.GridSpec(3, 3)\n",
    "\n",
    "# update gs defaults to have 0 width spacing, so plots are touching left/right, and an hspace of 2\n",
    "gs.update(wspace=0, hspace=2) \n",
    "ax1 = plt.subplot(gs[:-1, :])\n",
    "ax2 = plt.subplot(gs[-1, :-1])\n",
    "ax3 = plt.subplot(gs[-1, -1])"
   ]
  }
 ],
 "metadata": {
  "anaconda-cloud": {},
  "kernelspec": {
   "display_name": "Python 3",
   "language": "python",
   "name": "python3"
  },
  "language_info": {
   "codemirror_mode": {
    "name": "ipython",
    "version": 3
   },
   "file_extension": ".py",
   "mimetype": "text/x-python",
   "name": "python",
   "nbconvert_exporter": "python",
   "pygments_lexer": "ipython3",
   "version": "3.5.2"
  }
 },
 "nbformat": 4,
 "nbformat_minor": 2
}
