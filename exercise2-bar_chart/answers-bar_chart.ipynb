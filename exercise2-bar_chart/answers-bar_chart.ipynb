{
 "cells": [
  {
   "cell_type": "markdown",
   "metadata": {},
   "source": [
    "# Imports"
   ]
  },
  {
   "cell_type": "code",
   "execution_count": 72,
   "metadata": {},
   "outputs": [],
   "source": [
    "from matplotlib import pyplot as plt\n",
    "from matplotlib import rcParams\n",
    "%matplotlib inline\n",
    "\n",
    "import numpy as np"
   ]
  },
  {
   "cell_type": "markdown",
   "metadata": {},
   "source": [
    "# Default Parameters"
   ]
  },
  {
   "cell_type": "code",
   "execution_count": 73,
   "metadata": {},
   "outputs": [],
   "source": [
    "figsize = (4, 5) # in inches\n",
    "fontsize = 10\n",
    "save_dpi = 300\n",
    "linewidth = 0.5\n",
    "\n",
    "rcParams.update({\n",
    "    'font.size' : fontsize,\n",
    "    'savefig.dpi' : 300,\n",
    "    'axes.linewidth' : 0.5,\n",
    "})"
   ]
  },
  {
   "cell_type": "markdown",
   "metadata": {},
   "source": [
    "# Data"
   ]
  },
  {
   "cell_type": "code",
   "execution_count": 74,
   "metadata": {},
   "outputs": [],
   "source": [
    "# data\n",
    "x = ['cat', 'dog', 'fly', 'mouse', 'human']\n",
    "y1 = [3, 2, -1, 3, 7]\n",
    "y2 = [5, 10, -2, 4, 3]\n",
    "\n",
    "# error\n",
    "ey1 = [0.5, 0.2, 1, 0.3, 2]\n",
    "ey2 = [1.5, 0.6, 2, 1.3, 1]\n",
    "\n",
    "# labeling\n",
    "ylabel1 = 'units_1'\n",
    "ylabel2 = 'units_2'\n",
    "\n",
    "# coloring\n",
    "colors = ['#edf8fb',\n",
    "          '#b2e2e2',\n",
    "          '#66c2a4',\n",
    "          '#2ca25f',\n",
    "          '#006d2c']"
   ]
  },
  {
   "cell_type": "markdown",
   "metadata": {},
   "source": [
    "# Beginner\n",
    "\n",
    "### plot this\n",
    "<img src=\"beginner-bar.png\" alt=\"beginner\" width='33%' align='left'/>"
   ]
  },
  {
   "cell_type": "code",
   "execution_count": 75,
   "metadata": {},
   "outputs": [
    {
     "data": {
      "text/plain": [
       "(-5, 12)"
      ]
     },
     "execution_count": 75,
     "metadata": {},
     "output_type": "execute_result"
    },
    {
     "data": {
      "image/png": "[encoded data removed]",
      "text/plain": [
       "<Figure size 288x360 with 2 Axes>"
      ]
     },
     "metadata": {
      "needs_background": "light"
     },
     "output_type": "display_data"
    }
   ],
   "source": [
    "# create figure and axes\n",
    "fig_beg, axes = plt.subplots(2, 1, figsize=figsize)\n",
    "\n",
    "ax1 = axes[0]\n",
    "ax2 = axes[1]\n",
    "\n",
    "# set up bar spacing\n",
    "index = np.arange(len(x))\n",
    "width = 0.35 \n",
    "\n",
    "# plot separately\n",
    "ax1.bar(index, y1, width=width, edgecolor='k')\n",
    "ax2.bar(index, y2, width=width, edgecolor='k')\n",
    "\n",
    "# give them labels\n",
    "ax1.set_xticks(index)\n",
    "ax1.set_xticklabels(x)\n",
    "ax2.set_xticks(index)\n",
    "ax2.set_xticklabels(x)\n",
    "\n",
    "ax1.set_ylabel(ylabel1)\n",
    "ax1.set_ylabel(ylabel2)\n",
    "\n",
    "# change limits\n",
    "ax1.set_ylim([-5, 12])\n",
    "ax2.set_ylim([-5, 12])"
   ]
  },
  {
   "cell_type": "markdown",
   "metadata": {},
   "source": [
    "# Advanced\n",
    "### plot this\n",
    "<img src=\"advanced-bar.png\" alt=\"beginner\" width='33%' align='left'/>"
   ]
  },
  {
   "cell_type": "code",
   "execution_count": 76,
   "metadata": {},
   "outputs": [
    {
     "data": {
      "image/png": "[encoded data removed]",
      "text/plain": [
       "<Figure size 288x360 with 2 Axes>"
      ]
     },
     "metadata": {
      "needs_background": "light"
     },
     "output_type": "display_data"
    }
   ],
   "source": [
    "fig_adv, axes = plt.subplots(2, 1, figsize=figsize)\n",
    "\n",
    "# if subplot is > 2x2, need to unravel axes array\n",
    "axes = axes.flatten()\n",
    "\n",
    "# set up bar spacing\n",
    "index = np.arange(len(x))\n",
    "width = 0.35 \n",
    "\n",
    "# pack everything together, and iterate\n",
    "for i, ax, y, e, label in zip(np.arange(len(axes)), axes, [y1, y2], [ey1, ey2], [ylabel1, ylabel2]):\n",
    "    \n",
    "    # plot on each axis at a time\n",
    "    ax.bar(index, y, \n",
    "           width=width,\n",
    "           color=colors,\n",
    "           edgecolor='k',\n",
    "           zorder=2)\n",
    "    \n",
    "    # because of negative values, manually move the spine\n",
    "    ax.spines['bottom'].set_position('zero')\n",
    "    \n",
    "    # remove the other spines\n",
    "    ax.spines['right'].set_color('none')\n",
    "    ax.spines['top'].set_color('none')\n",
    "    \n",
    "    # give them axis labels, and change y value\n",
    "    ax.set_xticks(index)\n",
    "    ax.set_xticklabels(x, y=-2)\n",
    "    \n",
    "    # give them error bars, without the lines\n",
    "    ax.errorbar(index, y,\n",
    "                yerr=ey1,\n",
    "                linestyle='none',\n",
    "                color='k',\n",
    "                capsize=5,\n",
    "                zorder=1) # zorder is less than the bar plot, so the error bars are behind\n",
    "    \n",
    "    # set them to have the same ylimits\n",
    "    ax.set_ylim([-5, 12])\n",
    "    \n",
    "    # there are too many tick labels\n",
    "    ax.locator_params(axis='y', nbins=4)\n",
    "    \n",
    "    # draw grid lines (some may not like this)\n",
    "    ax.yaxis.grid()\n",
    "    \n",
    "    # draw y label\n",
    "    ax.set_ylabel(label)\n",
    "    \n",
    "    # give overall title\n",
    "    fig_adv.suptitle('advanced figure')\n",
    "    \n",
    "    # final (automated) adjustments\n",
    "    fig_adv.tight_layout()"
   ]
  },
  {
   "cell_type": "markdown",
   "metadata": {},
   "source": [
    "# Save"
   ]
  },
  {
   "cell_type": "code",
   "execution_count": 77,
   "metadata": {},
   "outputs": [],
   "source": [
    "fig_titles = ['beginner-bar.png', 'advanced-bar.png']\n",
    "for fig, title in zip([fig_beg, fig_adv], fig_titles):\n",
    "    fig.savefig(title, dpi=600, transparent=True)"
   ]
  }
 ],
 "metadata": {
  "kernelspec": {
   "display_name": "work3",
   "language": "python",
   "name": "work3"
  },
  "language_info": {
   "codemirror_mode": {
    "name": "ipython",
    "version": 3
   },
   "file_extension": ".py",
   "mimetype": "text/x-python",
   "name": "python",
   "nbconvert_exporter": "python",
   "pygments_lexer": "ipython3",
   "version": "3.7.2"
  }
 },
 "nbformat": 4,
 "nbformat_minor": 2
}
