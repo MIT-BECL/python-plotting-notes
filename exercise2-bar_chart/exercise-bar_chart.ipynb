{
 "cells": [
  {
   "cell_type": "markdown",
   "metadata": {},
   "source": [
    "# Imports"
   ]
  },
  {
   "cell_type": "code",
   "execution_count": 1,
   "metadata": {},
   "outputs": [],
   "source": [
    "from matplotlib import pyplot as plt\n",
    "from matplotlib import rcParams\n",
    "%matplotlib inline\n",
    "\n",
    "import numpy as np"
   ]
  },
  {
   "cell_type": "markdown",
   "metadata": {},
   "source": [
    "# Default Parameters"
   ]
  },
  {
   "cell_type": "code",
   "execution_count": 2,
   "metadata": {},
   "outputs": [],
   "source": [
    "figsize = (4, 5) # in inches\n",
    "fontsize = 10\n",
    "save_dpi = 300\n",
    "linewidth = 0.5\n",
    "\n",
    "rcParams.update({\n",
    "    'font.size' : fontsize,\n",
    "    'savefig.dpi' : 300,\n",
    "    'axes.linewidth' : 0.5,\n",
    "})"
   ]
  },
  {
   "cell_type": "markdown",
   "metadata": {},
   "source": [
    "# Data"
   ]
  },
  {
   "cell_type": "code",
   "execution_count": 3,
   "metadata": {},
   "outputs": [],
   "source": [
    "# data\n",
    "x = ['cat', 'dog', 'fly', 'mouse', 'human']\n",
    "y1 = [3, 2, -1, 3, 7]\n",
    "y2 = [5, 10, -2, 4, 3]\n",
    "\n",
    "# error\n",
    "ey1 = [0.5, 0.2, 1, 0.3, 2]\n",
    "ey2 = [1.5, 0.6, 2, 1.3, 1]\n",
    "\n",
    "# labeling\n",
    "ylabel1 = 'units_1'\n",
    "ylabel2 = 'units_2'\n",
    "\n",
    "# coloring\n",
    "colors = ['#edf8fb',\n",
    "          '#b2e2e2',\n",
    "          '#66c2a4',\n",
    "          '#2ca25f',\n",
    "          '#006d2c']"
   ]
  },
  {
   "cell_type": "markdown",
   "metadata": {},
   "source": [
    "# Beginner\n",
    "### plot this\n",
    "<img src=\"beginner-bar.png\" alt=\"beginner\" width='33%' align='left'/>"
   ]
  },
  {
   "cell_type": "code",
   "execution_count": 4,
   "metadata": {},
   "outputs": [
    {
     "data": {
      "text/plain": [
       "'\\n    hint - set setters to set the xticks and xlabels, ylabels, and limits of the plot\\n    \\n    example - \\n    ax1.set_ylabel(<args>)\\n    ax1.set_ylim(<args>)\\n    ax1.set_xticklabels(<args>) ...\\n'"
      ]
     },
     "execution_count": 4,
     "metadata": {},
     "output_type": "execute_result"
    }
   ],
   "source": [
    "# create figure and axis\n",
    "'''\n",
    "    hint - use the imported pyplot (plt) command to create a figure\n",
    "    typically you can go about this using the subplots(rows, columns, figsize) function\n",
    "    which gives you both the figure, and an array of axes\n",
    "    or you can create the figure first using figure(), then add axes onto it using add_axes()\n",
    "    or add_subplot() (not the lack of an 's')\n",
    "    \n",
    "    example \n",
    "    fig, axes = plt.subplots(2, 1, figsize=figsize)\n",
    "    # note that axes is an array containing TWO axis. One on top of the other (2 rows with 1 column)\n",
    "    # To directly effect the AXIS (not AXES), you need to use indexing\n",
    "    ax1 = axes[0]\n",
    "'''\n",
    "\n",
    "# set up bar spacing\n",
    "# plot a bar chart per axis\n",
    "'''\n",
    "    hint - mostly all 2D charts need an X and Y in the form of numerical values.\n",
    "    You need to convert the X values to numbers, say, 0, 1, 2, 3, ... per index. Use the np.arange(N) function\n",
    "    \n",
    "    hint - a unique aspect of bar charts is that you can control their spacing (X values) and their widths\n",
    "    Use the width option in ax.bar(... width=width) to set the spacing. \n",
    "    Read the ax.bar() API to see what other parameters you can adjust, such as edgecolor.\n",
    "    https://matplotlib.org/api/_as_gen/matplotlib.axes.Axes.bar.html\n",
    "    \n",
    "    example - \n",
    "    ax1.bar(X, Y, width=width, edgecolor='k') # k stands for black\n",
    "'''        \n",
    "\n",
    "# give them x and y labels\n",
    "# change limits\n",
    "'''\n",
    "    hint - set setters to set the xticks and xlabels, ylabels, and limits of the plot\n",
    "    \n",
    "    example - \n",
    "    ax1.set_ylabel(<args>)\n",
    "    ax1.set_ylim(<args>)\n",
    "    ax1.set_xticklabels(<args>) ...\n",
    "'''"
   ]
  },
  {
   "cell_type": "markdown",
   "metadata": {},
   "source": [
    "# Advanced\n",
    "### plot this\n",
    "<img src=\"advanced-bar.png\" alt=\"beginner\" width='33%' align='left'/>"
   ]
  },
  {
   "cell_type": "code",
   "execution_count": 5,
   "metadata": {},
   "outputs": [
    {
     "data": {
      "text/plain": [
       "'\\nhint - use the errobar command ax.errorbar()\\nfind the relevant input arguments in the documentation\\nhttps://matplotlib.org/api/_as_gen/matplotlib.pyplot.errorbar.html\\n'"
      ]
     },
     "execution_count": 5,
     "metadata": {},
     "output_type": "execute_result"
    }
   ],
   "source": [
    "# create figure and axis\n",
    "\n",
    "# set up bar spacing\n",
    "# plot a bar chart per axis\n",
    "\n",
    "# use a for loop to change both the first and second axis, without having to repeat code\n",
    "'''\n",
    "    example -\n",
    "    for i, ax, y, e, label in zip(np.arange(len(axes)), axes, [y1, y2], [ey1, ey2], [ylabel1, ylabel2]):\n",
    "    # the zip function packages similarly sized arrays (or lists) and indexes through each one simultaneously\n",
    "    # so the first iteration contains\n",
    "    # i=0, ax=ax1, y=y1, e=ey1, label=ylabel1\n",
    "    # second iteration contains\n",
    "    # i=1, ax=ax2, y=y2, e=ey2, label=ylabel2\n",
    "'''\n",
    "\n",
    "# within the for loop, plot the bar chart\n",
    "\n",
    "# move the spines so they look less awkward\n",
    "'''\n",
    "hint - use the ax.spines command to move around the axis borders (i.e. spines)\n",
    "\n",
    "example - \n",
    "ax.spines['bottom'].set_position('zero')\n",
    "ax.spines['right'].set_color('none')\n",
    "ax.spines['top'].set_color('none')\n",
    "'''\n",
    "    \n",
    "# plot the errorbars\n",
    "'''\n",
    "hint - use the errobar command ax.errorbar()\n",
    "find the relevant input arguments in the documentation\n",
    "https://matplotlib.org/api/_as_gen/matplotlib.pyplot.errorbar.html\n",
    "'''\n",
    "\n",
    "# use setters to change xtick and xlabels, ylabels, ylimits, figlabel, etc."
   ]
  },
  {
   "cell_type": "markdown",
   "metadata": {},
   "source": [
    "# Save"
   ]
  },
  {
   "cell_type": "code",
   "execution_count": 6,
   "metadata": {},
   "outputs": [
    {
     "data": {
      "text/plain": [
       "\"\\n    - example\\n    fig.savefig('title', dpi=300, transparent=True)\\n\""
      ]
     },
     "execution_count": 6,
     "metadata": {},
     "output_type": "execute_result"
    }
   ],
   "source": [
    "'''\n",
    "    - example\n",
    "    fig.savefig('title', dpi=300, transparent=True)\n",
    "'''"
   ]
  }
 ],
 "metadata": {
  "kernelspec": {
   "display_name": "work3",
   "language": "python",
   "name": "work3"
  },
  "language_info": {
   "codemirror_mode": {
    "name": "ipython",
    "version": 3
   },
   "file_extension": ".py",
   "mimetype": "text/x-python",
   "name": "python",
   "nbconvert_exporter": "python",
   "pygments_lexer": "ipython3",
   "version": "3.7.2"
  }
 },
 "nbformat": 4,
 "nbformat_minor": 2
}
